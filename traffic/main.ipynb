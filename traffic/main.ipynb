{
 "cells": [
  {
   "cell_type": "code",
   "execution_count": 1,
   "metadata": {},
   "outputs": [],
   "source": [
    "import numpy as np\n",
    "import matplotlib.pyplot as plt\n",
    "from traffic import *\n",
    "import cProfile"
   ]
  },
  {
   "cell_type": "markdown",
   "metadata": {},
   "source": [
    "# Reproduce test case (Figure 1)"
   ]
  },
  {
   "cell_type": "code",
   "execution_count": 2,
   "metadata": {},
   "outputs": [
    {
     "name": "stdout",
     "output_type": "stream",
     "text": [
      "0    [0000000000..........................................................................................]\n",
      "1    [0000000000..........................................................................................]\n",
      "2    [0000000000..........................................................................................]\n",
      "3    [0000000000..........................................................................................]\n",
      "4    [000000000.1.........................................................................................]\n",
      "5    [000000000..1........................................................................................]\n",
      ".\n",
      ".\n",
      "145  [5......4........4...................5......5...........5....................000.1...................]\n",
      "146  [.....5.....4........4...................4......4............5...............00.1..2.................]\n",
      "147  [..........5....4.........5..................4......4.............5..........0.1.1...2...............]\n",
      "148  [..............4.....5........4...................5.....4..............5.....0.0..1....2.............]\n",
      "149  [..................4......5........5..................4......5.............4.0.0...1.....2...........]\n",
      "150  [......................4.......5........5.................4.......5.........10..1....2.....2.........]\n"
     ]
    }
   ],
   "source": [
    "L = 100\n",
    "ITERATIONS=150\n",
    "initial_cars = np.ones(L, dtype=int) * -1\n",
    "initial_cars[:10] = 0\n",
    "\n",
    "all_cars = calculate_cars(\n",
    "    initial_cars, \n",
    "    iterations=ITERATIONS, \n",
    "    p_slowdown=0.6, \n",
    "    vmax_fast=5, \n",
    "    seed=0xDECAFBAD\n",
    ")\n",
    "\n",
    "# Add spaces so all arrays are aligned\n",
    "L_numofdigits = len(str(L))\n",
    "\n",
    "def print_ln(n, cars):\n",
    "    # Add more spaces depending on how many digits are in this iteration number, so all rows align\n",
    "    n_numofdigits = len(str(n))\n",
    "    space = ' ' * (L_numofdigits - n_numofdigits)\n",
    "    \n",
    "    print(n, space, str(cars).replace('-1', '.').replace(' ', '').replace('\\n', ''))\n",
    "\n",
    "for n, cars in enumerate(all_cars[:6]):\n",
    "    print_ln(n, cars)\n",
    "\n",
    "# Break between first 6 and last 6 iterations\n",
    "print('.\\n.')\n",
    "\n",
    "for n, cars in enumerate(all_cars[-6:]):\n",
    "    print_ln(n+ITERATIONS-5, cars)"
   ]
  },
  {
   "cell_type": "markdown",
   "metadata": {},
   "source": [
    "# Number of iterations to reach a steady state"
   ]
  },
  {
   "cell_type": "code",
   "execution_count": 7,
   "metadata": {},
   "outputs": [],
   "source": [
    "iterations = np.arange(0, 1000)\n",
    "cars_set = np.array([])\n",
    "\n",
    "DENSITY = 0.3\n",
    "L = 400\n",
    "VMAX = 5\n",
    "ITERATIONS = 2000\n",
    "\n",
    "# Number of cars required\n",
    "N_cars = np.floor(L * DENSITY).astype(int)\n",
    "\n",
    "initial_cars = np.array([0 if n < N_cars else -1 for n in range(L)], dtype=int)\n",
    "\n",
    "cars = calculate_cars(initial_cars, iterations=ITERATIONS, vmax_fast=VMAX)"
   ]
  },
  {
   "cell_type": "code",
   "execution_count": 8,
   "metadata": {},
   "outputs": [
    {
     "data": {
      "image/png": "[encoded data removed]",
      "text/plain": [
       "<Figure size 1008x504 with 1 Axes>"
      ]
     },
     "metadata": {
      "needs_background": "light"
     },
     "output_type": "display_data"
    }
   ],
   "source": [
    "velocities = np.clip(cars, 0, None)\n",
    "flow = np.sum(velocities, axis=1)\n",
    "iteration_range = np.arange(0, ITERATIONS+1)\n",
    "\n",
    "for i in range(1, ITERATIONS+1):\n",
    "    flow[i] = np.sum(velocities[np.clip(i-500, 0, None).astype(int):i]) / (i if i < 500 else 500)\n",
    "\n",
    "figure=plt.figure(figsize=(14, 7))\n",
    "plt.plot(iteration_range, flow)\n",
    "plt.plot([600, 600], [0, 100], 'r--')\n",
    "plt.plot([1200, 1200], [0, 100], 'r--')\n",
    "plt.xlabel('Number of iterations')\n",
    "plt.ylabel('Traffic flow (average velocity per site per iteration)')\n",
    "plt.savefig('traffic flow vs number of iterations.png')\n",
    "plt.show()"
   ]
  },
  {
   "cell_type": "markdown",
   "metadata": {},
   "source": [
    "# Flow diagrams (Figures 2 and 6)"
   ]
  },
  {
   "cell_type": "markdown",
   "metadata": {},
   "source": [
    "### Without slowing (Figure 3)"
   ]
  },
  {
   "cell_type": "code",
   "execution_count": 9,
   "metadata": {},
   "outputs": [],
   "source": [
    "L = 400\n",
    "POINTS = 60\n",
    "ITERATIONS = 1000"
   ]
  },
  {
   "cell_type": "markdown",
   "metadata": {},
   "source": [
    "Calculate traffic flow (takes  <b>~2 minutes.</b>). I have run this code and saved it to a file, which can be loaded in the \"load variables from file\" cell below"
   ]
  },
  {
   "cell_type": "code",
   "execution_count": 21,
   "metadata": {},
   "outputs": [],
   "source": [
    "x, mean_flow, std = calculate_flows(points=POINTS, L=L, iterations=ITERATIONS)\n",
    "\n",
    "# ------Save files-------\n",
    "X_FILE_PATH = 'x.npy'\n",
    "MEAN_FLOW_FILE_PATH = 'mean_flow.npy'\n",
    "STD_FILE_PATH = 'std.npy'\n",
    "\n",
    "np.save(X_FILE_PATH, x)\n",
    "np.save(MEAN_FLOW_FILE_PATH, mean_flow)\n",
    "np.save(STD_FILE_PATH, std)"
   ]
  },
  {
   "cell_type": "markdown",
   "metadata": {},
   "source": [
    "Load variables from file (much quicker)"
   ]
  },
  {
   "cell_type": "code",
   "execution_count": 20,
   "metadata": {},
   "outputs": [],
   "source": [
    "X_FILE_PATH = 'x.npy'\n",
    "MEAN_FLOW_FILE_PATH = 'mean_flow.npy'\n",
    "STD_FILE_PATH = 'std.npy'\n",
    "\n",
    "x = np.load(X_FILE_PATH)\n",
    "mean_flow = np.load(MEAN_FLOW_FILE_PATH)\n",
    "std = np.load(STD_FILE_PATH)"
   ]
  },
  {
   "cell_type": "markdown",
   "metadata": {},
   "source": [
    "Plot the flow-density diagram"
   ]
  },
  {
   "cell_type": "code",
   "execution_count": 11,
   "metadata": {},
   "outputs": [
    {
     "data": {
      "image/png": "[encoded data removed]",
      "text/plain": [
       "<Figure size 576x360 with 1 Axes>"
      ]
     },
     "metadata": {
      "needs_background": "light"
     },
     "output_type": "display_data"
    }
   ],
   "source": [
    "plt.figure(figsize=(8, 5))\n",
    "plt.errorbar(x, mean_flow, xerr=None, yerr=std, fmt='.', color='black', capsize=3)\n",
    "plt.xlabel('Density (cars per site)')\n",
    "plt.ylabel('Traffic flow (velocity per site per iteration)')\n",
    "\n",
    "plt.savefig('Basic traffic flow image with errorbars.png', dpi=300)\n",
    "plt.show()"
   ]
  },
  {
   "cell_type": "markdown",
   "metadata": {},
   "source": [
    "Find highest mean flow, and density at which this occurs"
   ]
  },
  {
   "cell_type": "code",
   "execution_count": 12,
   "metadata": {},
   "outputs": [
    {
     "name": "stdout",
     "output_type": "stream",
     "text": [
      "Highest mean flow is 0.29057356608478807 ± 0.013070457427261381, which occurs at x=0.06779661016949153 ± 0.008474576271186439\n"
     ]
    }
   ],
   "source": [
    "index = mean_flow.argmax()\n",
    "\n",
    "highest_mean_flow_x = x[index]\n",
    "highest_mean_flow_xerr = (x[index+1] - x[index]) / 2\n",
    "\n",
    "highest_mean_flow = mean_flow[index]\n",
    "highest_mean_flow_std = std[index]\n",
    "\n",
    "print(f'Highest mean flow is {highest_mean_flow} ± {highest_mean_flow_std}, which occurs at x={highest_mean_flow_x} ± {highest_mean_flow_xerr}')"
   ]
  },
  {
   "cell_type": "markdown",
   "metadata": {},
   "source": [
    "### With slowing (Figure 4)"
   ]
  },
  {
   "cell_type": "code",
   "execution_count": 13,
   "metadata": {},
   "outputs": [],
   "source": [
    "L = 400\n",
    "POINTS = 60\n",
    "ITERATIONS=1000"
   ]
  },
  {
   "cell_type": "markdown",
   "metadata": {},
   "source": [
    "Calculate flow with slowing. This cell takes <b>~3 minutes</b> to run. Again, I have included a \"load\" cell."
   ]
  },
  {
   "cell_type": "code",
   "execution_count": null,
   "metadata": {},
   "outputs": [],
   "source": [
    "x, mean_flow_slow, std_slow = calculate_flows(points=POINTS, L=L, iterations=ITERATIONS, slowed=True)\n",
    "\n",
    "# ------Save files-------\n",
    "X_FILE_PATH = 'x.npy'\n",
    "MEAN_FLOW_SLOW_FILE_PATH = 'mean_flow_slow.npy'\n",
    "STD_SLOW_FILE_PATH = 'std_slow.npy'\n",
    "\n",
    "np.save(X_FILE_PATH, x)\n",
    "np.save(MEAN_FLOW_SLOW_FILE_PATH, mean_flow_slow)\n",
    "np.save(STD_SLOW_FILE_PATH, std_slow)"
   ]
  },
  {
   "cell_type": "markdown",
   "metadata": {},
   "source": [
    "Load"
   ]
  },
  {
   "cell_type": "code",
   "execution_count": null,
   "metadata": {},
   "outputs": [],
   "source": [
    "X_FILE_PATH = 'x.npy'\n",
    "MEAN_FLOW_SLOW_FILE_PATH = 'mean_flow_slow.npy'\n",
    "STD_SLOW_FILE_PATH = 'std_slow.npy'\n",
    "\n",
    "x = np.load(X_FILE_PATH)\n",
    "mean_flow_slow = np.load(MEAN_FLOW_SLOW_FILE_PATH)\n",
    "std_slow = np.load(STD_SLOW_FILE_PATH)"
   ]
  },
  {
   "cell_type": "markdown",
   "metadata": {},
   "source": [
    "Plot flows with slowing"
   ]
  },
  {
   "cell_type": "code",
   "execution_count": 15,
   "metadata": {},
   "outputs": [
    {
     "data": {
      "image/png": "[encoded data removed]",
      "text/plain": [
       "<Figure size 576x360 with 1 Axes>"
      ]
     },
     "metadata": {
      "needs_background": "light"
     },
     "output_type": "display_data"
    }
   ],
   "source": [
    "plt.figure(figsize=(8, 5))\n",
    "plt.errorbar(x, mean_flow_slow, xerr=None, yerr=std_slow, fmt='.', color='red', capsize=3)\n",
    "plt.xlabel('Density (cars per site)')\n",
    "plt.ylabel('Traffic flow (velocity per site per iteration)')\n",
    "\n",
    "plt.show()"
   ]
  },
  {
   "cell_type": "markdown",
   "metadata": {},
   "source": [
    "Find highest mean flow, and density at which this occurs"
   ]
  },
  {
   "cell_type": "code",
   "execution_count": 18,
   "metadata": {},
   "outputs": [
    {
     "name": "stdout",
     "output_type": "stream",
     "text": [
      "Highest mean flow when slowed is 0.23147132169576057 ± 0.022868316526296506, which occurs at x=0.22033898305084745 ± 0.008474576271186446\n"
     ]
    }
   ],
   "source": [
    "index_slow = mean_flow_slow.argmax()\n",
    "\n",
    "highest_mean_flow_slow_x = x[index_slow]\n",
    "highest_mean_flow_slow_xerr = (x[index_slow+1] - x[index_slow]) / 2\n",
    "\n",
    "highest_mean_flow_slow = mean_flow_slow[index_slow]\n",
    "highest_mean_flow_slow_std = std_slow[index_slow]\n",
    "\n",
    "print(f'Highest mean flow when slowed is {highest_mean_flow_slow} ± {highest_mean_flow_slow_std},', \\\n",
    "    f'which occurs at x={highest_mean_flow_slow_x} ± {highest_mean_flow_slow_xerr}')"
   ]
  },
  {
   "cell_type": "markdown",
   "metadata": {},
   "source": [
    "### Plot with both\n",
    "This plots the slowed traffic and non-slowed traffic on the same figure."
   ]
  },
  {
   "cell_type": "code",
   "execution_count": 17,
   "metadata": {},
   "outputs": [
    {
     "data": {
      "image/png": "[encoded data removed]",
      "text/plain": [
       "<Figure size 576x360 with 1 Axes>"
      ]
     },
     "metadata": {
      "needs_background": "light"
     },
     "output_type": "display_data"
    }
   ],
   "source": [
    "plt.figure(figsize=(8, 5))\n",
    "plt.errorbar(x, mean_flow_slow, xerr=None, yerr=std, fmt='.', color='red', capsize=3, label='Slowed')\n",
    "plt.errorbar(x, mean_flow, xerr=None, yerr=std_slow, fmt='.', color='black', capsize=3, label='Not slowed')\n",
    "plt.xlabel('density (cars per site)')\n",
    "plt.ylabel('traffic flow (velocity per site per iteration)')\n",
    "plt.legend()\n",
    "\n",
    "plt.savefig('basic traffic flow image with errorbars and slowing.png', dpi=300)\n",
    "plt.show()"
   ]
  },
  {
   "cell_type": "markdown",
   "metadata": {},
   "source": [
    "# Traffic jam (Figure 3)"
   ]
  },
  {
   "cell_type": "markdown",
   "metadata": {},
   "source": [
    "### Without slowing\n"
   ]
  },
  {
   "cell_type": "code",
   "execution_count": 19,
   "metadata": {},
   "outputs": [
    {
     "name": "stdout",
     "output_type": "stream",
     "text": [
      "0   [.......5....5.......5.....5......5..00.1......5............................]\n",
      "1   [...........4....4........5.....5...200...2........4........................]\n",
      "2   [..............3......5.......4....3000......3..........5...................]\n",
      "3   [..................4......4......3.0000.........3...........4...............]\n",
      "4   [......................4.......5.0.000.1............4...........4...........]\n",
      "5   [...........................5...1.1000...2...............5..........4.......]\n",
      "6   [..............................30.0000......3................4...........5..]\n",
      "7   [.4............................0.1000.1........3..................5.........]\n",
      "8   [.....4........................0.0000...2.........3...................4.....]\n",
      "9   [.........4....................0.000.1....2..........3....................4.]\n",
      "10  [...5..........5................1000...2....2...........3...................]\n",
      "11  [........5..........5...........000.1....2....2.............4...............]\n",
      "12  [.............5.........4.......000...2....2.....3..............4...........]\n",
      "13  [.................4.........4...000......3....3......4..............4.......]\n",
      "14  [.....................4........3000.........3....3........5..............5..]\n",
      "15  [.4.......................4....000.1............4....4........4.............]\n",
      "16  [.....4......................3.00.1..2.............3.....4........4.........]\n",
      "17  [.........4..................0.0.1.1...2..............3.......5.......4.....]\n",
      "18  [..............5.............0.0.0..1....2................4........5......4.]\n",
      "19  [..4................5.........10.0...1.....2..................4.........5...]\n",
      "20  [.5.....5...............4.....00..1....2.....2.....................5........]\n",
      "21  [.....4.....4................500...1.....2.....2.......................4....]\n",
      "22  [..........5....4............00.1...1......2......3........................4]\n",
      "23  [...4.........3.....4........00..1...1.......2........4.....................]\n",
      "24  [.......4........3.......5...00....2...2.......2...........5................]\n",
      "25  [...........4.......3.......30.1......3...3.......3............4............]\n",
      "26  [................5......4...00..1........3....4......3.............4........]\n",
      "27  [....................4.....300...1...........4....4......4..............5...]\n",
      "28  [.5.......................5000....1.............3......5.....4..............]\n",
      "29  [......5..................0000.....1................4......4.....4..........]\n",
      "30  [...........5.............0000.......2..................4.......5....4......]\n",
      "31  [................5........0000.........2....................4.......4....4..]\n",
      "32  [.4...................5...0000............3.....................4......3....]\n",
      "33  [.....4..................3000.1..............3.......................5....3.]\n",
      "34  [..4......4..............000.1..2...............3........................4..]\n",
      "35  [3.....4......4..........00.1.1....3................4.......................]\n",
      "36  [...3......4......4......0.10...2.....3..................5..................]\n",
      "37  [.......4......4......4..0.00.....2......3....................5.............]\n",
      "38  [............5......5..1.0.0.1.......3......3.....................4.........]\n",
      "39  [................4...1.0.0..1..2.........4......4......................5....]\n",
      "40  [..................2..1.10...1....3...........5.....4......................4]\n",
      "41  [....5..............1.0.0.1....2......4...........4.....4...................]\n",
      "42  [........4...........10.0..1......3........5...........5.....5..............]\n",
      "43  [............4.......00.0...1.........4........4...........4......5.........]\n",
      "44  [.................5..00.0....1............4........4............5.....4.....]\n",
      "45  [..................1.0.1.1....1...............4........4.............5.....5]\n",
      "46  [....5..............1.10..1....1...................5........5.............5.]\n",
      "47  [..4.....4...........100...1.....2.....................4........4...........]\n",
      "48  [......4.....4.......00.1....2.....2........................5........5......]\n",
      "49  [...........5....4...0.1..2.....3....2..........................4........4..]\n",
      "50  [.4............3....3.1.1...2......3....3...........................4.......]\n"
     ]
    }
   ],
   "source": [
    "delta_x = 8\n",
    "ITERATIONS = 50\n",
    "L = 75\n",
    "density = 0.2\n",
    "\n",
    "# Create initial cars array. Probability of 0.1 that a site has a car in it. Cars have random velocities from 1 to 5\n",
    "initial_cars = np.ones(L, dtype=int) * -1\n",
    "initial_cars[7] = 5\n",
    "initial_cars[12] = 5\n",
    "initial_cars[20] = 5\n",
    "initial_cars[26] = 5\n",
    "initial_cars[33] = 5\n",
    "initial_cars[36] = 0\n",
    "initial_cars[37] = 0\n",
    "initial_cars[39] = 1\n",
    "initial_cars[46] = 5\n",
    "\n",
    "all_cars = calculate_cars(initial_cars, ITERATIONS, vmax_slow=2, vmax_fast=5, slowed=False)\n",
    "\n",
    "for n, cars in enumerate(all_cars):\n",
    "    # Add spaces so all arrays are aligned\n",
    "    L_numofdigits = len(str(L))\n",
    "    n_numofdigits = len(str(n))\n",
    "    space = ' ' * (L_numofdigits - n_numofdigits)\n",
    "    \n",
    "    print(n, space, str(cars).replace('-1', '.').replace(' ', '').replace('\\n', ''))"
   ]
  },
  {
   "cell_type": "markdown",
   "metadata": {},
   "source": [
    "### With slowing"
   ]
  },
  {
   "cell_type": "code",
   "execution_count": 20,
   "metadata": {},
   "outputs": [
    {
     "name": "stdout",
     "output_type": "stream",
     "text": [
      "0    [5.......5.......5.......5.......5.......5.......5.......5.......5.......5.......5.......5.......5...]\n",
      "1    [.....5......4........5.......5.......5...1.......1...........5......4.......4........5......4......3]\n",
      "2    [..3.......5.....4........4........5....2...2......1..............4.......5.......5........5.....4...]\n",
      "3    [.5...3........4......5.......4.......3..1....2......2.................5......4........5........5....]\n",
      "4    [5...3...3.........4.......5.......5...1...2...1.......2...................4......4........4.........]\n",
      "5    [..2....3...3...........5.......5....2..1....2..1........2.....................4......4........4.....]\n",
      "6    [....2.....3...3............4.......4.1..1....1..1.........2........................5......5........5]\n",
      "7    [...4..2.....2....3..............5...1.1...2...1...2........1...........................4.......5....]\n",
      "8    [.....2..2.....2......4.............30..1....2...2..1........1...............................5......4]\n",
      "9    [...4...2..2......3.......4.........00...1.....2..1...2........2..................................5..]\n",
      "10   [.4...2...2...3.......4.......4.....00.....2.....2.1...1..........3..................................]\n",
      "11   [....3...3...3...3........4.......4.00......1.....1..2..1............3...............................]\n",
      "12   [......2...2...2....3..........5..0.00........2....1...2.1..............3............................]\n",
      "13   [........2...2...2......4........20.0.1........1....1..0..1................3.........................]\n",
      "14   [...........3..2....3.......4....00..1..2.......1.....2.1..1..................3......................]\n",
      "15   [.............2..2.....3.......3.00...1...2......1....0...2..2...................3...................]\n",
      "16   [..............1....3.....3....0.0.1...1...1......1...0.....2..2....................3................]\n",
      "17   [...............1.......4.....40..1..2..1....2.....1..0.......2..2......................4............]\n",
      "18   [.................2..........500....2..2.1....1.....1..1........2..2........................4........]\n",
      "19   [...................2........000.....1..1.1.....2.....2..2.......1....3.........................4....]\n",
      "20   [.....................2......000.......2.1..2....1.....1..1.......1.......4.........................4]\n",
      "21   [....5..................2....000.......0..1...2...1......2.1........2..........5.....................]\n",
      "22   [.........5...............2..00.1......0....2...2..1.....0..1..........3...........4.................]\n",
      "23   [.............4............1.0.1..2.....1.....2...2.1.....1..1............3............4.............]\n",
      "24   [.................4.........1.1..2..2.....2.....2.0..1.....1..1...............4............4.........]\n",
      "25   [......................5.....1.1..1...2....1....0..1..1......2.1...................5............5....]\n",
      "26   [..........................4.0..1..1....2...1...0....2..2.....1.1......................4............4]\n",
      "27   [....5......................1.1..1..1....1...1..0.....1...2....1..2.........................5........]\n",
      "28   [........4...................1..2.1..1.....2...20......1...1....1...2............................5...]\n",
      "29   [.5...........5................20..1...2....1..00.......1...1.....2....3.............................]\n",
      "30   [......5..........4............00...1...1.....200.........2...2.....2.....3..........................]\n",
      "31   [..........4..........4........00.....2..1....00.1..........2...2.....2......3.......................]\n",
      "32   [...............5..........5...0.1.....1..1...0.1..2...........3...3....2........4...................]\n",
      "33   [...................4........2.0...2....1..1..0..1..1............2....3....3..........5..............]\n",
      "34   [.......................4.....1.1.....3..1..1..1...2..2............2.....3....3...........4..........]\n",
      "35   [............................5.1.1.....1..1...2.1...1...2............2.......4...3............4......]\n",
      "36   [.............................1.1..2.....2..2.0...2..1...1.............2.......2.....4............4..]\n",
      "37   [..5..........................0..1...2.....20.0....1..1...1..............2.......2........5..........]\n",
      "38   [......4......................0...1....2...00.0.....1...2..1................3......2...........5.....]\n",
      "39   [...........5.................0.....2...1..0.10......1...1...2..................4.....3............4.]\n",
      "40   [...5...........4.............0........3..20.00.......1...1....2....................4....3...........]\n",
      "41   [........5..........4..........1........1.00.0.1........2..1.....2......................4...3........]\n",
      "42   [............4...........5......1.......0.00.0..1.........2..2......3......................3...3.....]\n",
      "43   [.................5..........4...1......0.0.1.1..1.........1....3.......4....................2....3..]\n",
      "44   [.4...................4........2..1.....0.0..1..2.1.........1.......4........5.................2.....]\n",
      "45   [.....4...................4.....1...2....1.1...2.1.1.........1...........5.......4................3..]\n",
      "46   [.4.......4...................4..1....2..0..1...1.1..2.........2.............4........5..............]\n",
      "47   [......5......4................1..1....1.0....2.0..1..1..........2................5.......4..........]\n",
      "48   [...........5......5............1..1....10.....10...1..1............3.................4.......4......]\n",
      "49   [................5.....4.........1..1...00.....00....1..1..............3...................5......4..]\n",
      "50   [.4...................5....4......1..1..0.1....00......2.1.................4...................4.....]\n"
     ]
    }
   ],
   "source": [
    "delta_x = 8\n",
    "ITERATIONS = 50\n",
    "L = 100\n",
    "\n",
    "# Create initial cars array\n",
    "initial_cars = np.ones(L, dtype=int) * -1\n",
    "\n",
    "# Populate initial cars array\n",
    "for i in range(L):\n",
    "    if i % delta_x == 0:\n",
    "        initial_cars[i] = 5\n",
    "\n",
    "all_cars = calculate_cars(initial_cars, ITERATIONS, vmax_slow=2, vmax_fast=5, slowed=True)\n",
    "\n",
    "for n, cars in enumerate(all_cars):\n",
    "    # Add spaces so all arrays are aligned\n",
    "    L_numofdigits = len(str(L))\n",
    "    n_numofdigits = len(str(n))\n",
    "    space = ' ' * (L_numofdigits - n_numofdigits)\n",
    "    \n",
    "    print(n, space, str(cars).replace('-1', '.').replace(' ', '').replace('\\n', ''))"
   ]
  },
  {
   "cell_type": "markdown",
   "metadata": {},
   "source": [
    "# Lanes (Figures 7 and 8)"
   ]
  },
  {
   "cell_type": "markdown",
   "metadata": {},
   "source": [
    "### 1 value of density (Figure 7)"
   ]
  },
  {
   "cell_type": "code",
   "execution_count": 21,
   "metadata": {},
   "outputs": [
    {
     "name": "stdout",
     "output_type": "stream",
     "text": [
      "0   [.........5..5.......5.....5......5..20.1......5...]\n",
      "    [......5...........................................]\n",
      "1   [.5.........2.....5.......5.....5......1..2........]\n",
      "    [...........5.........................15...........]\n",
      "2   [......5.......3.......5.......5.....5...2...3.....]\n",
      "    [................5....................0.....5......]\n",
      "3   [...........5......4........5.......5...3...3....4.]\n",
      "    [.....................5................1.........5.]\n",
      "4   [...5............5......5........5.....3...3....4..]\n",
      "    [...5......................5.............2.........]\n",
      "5   [..5.....5............5......5........5...3....4...]\n",
      "    [........5......................5...........3......]\n",
      "6   [.5.....5.....5............5......5...........4....]\n",
      "    [.............5......................5.....5....4..]\n",
      "7   [5.....5.....5.....5............5......5...........]\n",
      "    [..5...............5......................5....4...]\n"
     ]
    }
   ],
   "source": [
    "L = 50\n",
    "initial_cars = np.ones((L, 2), dtype=int) * -1\n",
    "initial_cars[9, 0] = 5\n",
    "initial_cars[6, 1] = 5\n",
    "initial_cars[12, 0] = 5\n",
    "initial_cars[20, 0] = 5\n",
    "initial_cars[26, 0] = 5\n",
    "initial_cars[33, 0] = 5\n",
    "initial_cars[36, 0] = 2\n",
    "initial_cars[37, 0] = 0\n",
    "initial_cars[39, 0] = 1\n",
    "initial_cars[46, 0] = 5\n",
    "\n",
    "all_cars = calculate_cars_lanes(initial_cars, iterations=7, p_slowdown=0)\n",
    "\n",
    "# Print \n",
    "for n, cars in enumerate(all_cars):\n",
    "    # Add spaces so all arrays are aligned\n",
    "    L_numofdigits = len(str(L))\n",
    "    n_numofdigits = len(str(n))\n",
    "    space = ' ' * (L_numofdigits - n_numofdigits)\n",
    "    \n",
    "    print(n, space, str(cars[:, 0]).replace('-1', '.').replace(' ', '').replace('\\n', ''))\n",
    "\n",
    "    space2 = ' ' * (L_numofdigits + 1)\n",
    "    print(space2, str(cars[:, 1]).replace('-1', '.').replace(' ', '').replace('\\n', ''))"
   ]
  },
  {
   "cell_type": "markdown",
   "metadata": {},
   "source": [
    "### Flow diagram (Figure 8)"
   ]
  },
  {
   "cell_type": "code",
   "execution_count": 2,
   "metadata": {},
   "outputs": [],
   "source": [
    "L = 400\n",
    "POINTS = 60\n",
    "ITERATIONS = 1000"
   ]
  },
  {
   "cell_type": "markdown",
   "metadata": {},
   "source": [
    "Takes <b>~27 minutes</b>. Again, I have saved these to a file."
   ]
  },
  {
   "cell_type": "code",
   "execution_count": 3,
   "metadata": {},
   "outputs": [],
   "source": [
    "x, mean_flow_lanes, std_lanes = calculate_flows(points=POINTS, L=L, iterations=ITERATIONS, lanes=True)\n",
    "\n",
    "# ------Save files-------\n",
    "X_FILE_PATH = 'x.npy'\n",
    "MEAN_FLOW_LANES_FILE_PATH = 'mean_flow_lanes.npy'\n",
    "STD_LANES_FILE_PATH = 'std_lanes.npy'\n",
    "\n",
    "np.save(X_FILE_PATH, x)\n",
    "np.save(MEAN_FLOW_LANES_FILE_PATH, mean_flow_lanes)\n",
    "np.save(STD_LANES_FILE_PATH, std_lanes)"
   ]
  },
  {
   "cell_type": "markdown",
   "metadata": {},
   "source": [
    "Load variables from file (so code doesn't need to run again)"
   ]
  },
  {
   "cell_type": "code",
   "execution_count": 4,
   "metadata": {},
   "outputs": [],
   "source": [
    "X_FILE_PATH = 'x.npy'\n",
    "MEAN_FLOW_LANES_FILE_PATH = 'mean_flow_lanes.npy'\n",
    "STD_LANES_FILE_PATH = 'std_lanes.npy'\n",
    "\n",
    "x = np.load(X_FILE_PATH)\n",
    "mean_flow_lanes = np.load(MEAN_FLOW_LANES_FILE_PATH)\n",
    "std_lanes = np.load(STD_LANES_FILE_PATH)"
   ]
  },
  {
   "cell_type": "markdown",
   "metadata": {},
   "source": [
    "Plot the flow-density diagram"
   ]
  },
  {
   "cell_type": "code",
   "execution_count": 17,
   "metadata": {},
   "outputs": [
    {
     "data": {
      "image/png": "[encoded data removed]",
      "text/plain": [
       "<Figure size 576x360 with 1 Axes>"
      ]
     },
     "metadata": {
      "needs_background": "light"
     },
     "output_type": "display_data"
    }
   ],
   "source": [
    "plt.figure(figsize=(8, 5))\n",
    "plt.errorbar(x, mean_flow, xerr=None, yerr=std, fmt='.', color='black', capsize=3, label='Two single lane roads')\n",
    "plt.errorbar(x, mean_flow_lanes, xerr=None, yerr=std_lanes, fmt='.', color='blue', capsize=3, label='Single two lane road')\n",
    "plt.xlabel('Density (cars per site)')\n",
    "plt.ylabel('Traffic flow (velocity per site per iteration)')\n",
    "plt.legend()\n",
    "\n",
    "plt.savefig('lanes traffic flow image with errorbars.png', dpi=300)\n",
    "plt.show()"
   ]
  },
  {
   "cell_type": "markdown",
   "metadata": {},
   "source": [
    "Find highest mean flow, and density at which this occurs"
   ]
  },
  {
   "cell_type": "code",
   "execution_count": 19,
   "metadata": {},
   "outputs": [
    {
     "name": "stdout",
     "output_type": "stream",
     "text": [
      "Highest mean flow is 0.3323004987531172 ± 0.00516475198754899, which occurs at x=0.0847457627118644\n",
      "Traffic flow is on average higher by 20.895559425902462%\n"
     ]
    }
   ],
   "source": [
    "index = mean_flow_lanes.argmax()\n",
    "highest_mean_flow_lanes_x = x[index]\n",
    "highest_mean_flow_lanes = mean_flow_lanes[index]\n",
    "highest_mean_flow_lanes_error = std_lanes[index]\n",
    "\n",
    "print(f'Highest mean flow is {highest_mean_flow_lanes} ± {highest_mean_flow_lanes_error}, which occurs at x={highest_mean_flow_lanes_x}')\n",
    "\n",
    "# [1:-1] because first term and last term divide by 0\n",
    "lanes_nonlanes_ratio = np.sum(mean_flow_lanes[1:-1]) / np.sum(mean_flow[1:-1])\n",
    "print(f'Traffic flow is on average higher by {lanes_nonlanes_ratio * 100 - 100}%')"
   ]
  }
 ],
 "metadata": {
  "interpreter": {
   "hash": "7e73dac1c41d797802da780940d4c447877bdac34dc012a1ae40d2ee87bbe4af"
  },
  "kernelspec": {
   "display_name": "Python 3.8.8 64-bit ('base': conda)",
   "language": "python",
   "name": "python3"
  },
  "language_info": {
   "codemirror_mode": {
    "name": "ipython",
    "version": 3
   },
   "file_extension": ".py",
   "mimetype": "text/x-python",
   "name": "python",
   "nbconvert_exporter": "python",
   "pygments_lexer": "ipython3",
   "version": "3.8.8"
  },
  "orig_nbformat": 4
 },
 "nbformat": 4,
 "nbformat_minor": 2
}
